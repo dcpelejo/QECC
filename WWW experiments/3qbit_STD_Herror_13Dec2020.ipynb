{
 "cells": [
  {
   "cell_type": "code",
   "execution_count": 1,
   "metadata": {},
   "outputs": [],
   "source": [
    "from qiskit import Aer, QuantumCircuit, ClassicalRegister, QuantumRegister, IBMQ, execute\n",
    "import csv\n",
    "import numpy as np\n",
    "import matplotlib.pyplot\n",
    "from matplotlib.pyplot import *\n",
    "from qiskit.tools.visualization import plot_histogram\n",
    "from matplotlib.lines import Line2D\n"
   ]
  },
  {
   "cell_type": "code",
   "execution_count": 2,
   "metadata": {},
   "outputs": [],
   "source": [
    "class CSVWriter:\n",
    "\n",
    "    def __init__(self, QuantumCircuit, backends, input_bits, error_op, shots, filename):\n",
    "        self.qc = QuantumCircuit\n",
    "        self.error_op = error_op\n",
    "        self.input_bits = input_bits\n",
    "        self.jobs = []\n",
    "        self.filename = filename\n",
    "        self.__init_jobs(backends, shots)\n",
    "\n",
    "    class __job:\n",
    "\n",
    "        def __init__(self, SpecificBackend, qc, shots):\n",
    "            self.qc = qc\n",
    "            self.shots = shots\n",
    "            provider = IBMQ.get_provider()\n",
    "            self.backendname = SpecificBackend\n",
    "            self.backend = provider.get_backend(SpecificBackend)\n",
    "            self.result, self.id = self.__run()\n",
    "\n",
    "        def __run(self):\n",
    "            job = execute(self.qc, backend = self.backend, shots = self.shots)\n",
    "            return job.result(), job.job_id()\n",
    "\n",
    "    def __id(self, job):\n",
    "        return job.id\n",
    "\n",
    "    def __machine(self, job):\n",
    "        return job.backendname\n",
    "\n",
    "    def __shots(self, job):\n",
    "        return job.shots\n",
    "\n",
    "    def __KeyVals(self, job):\n",
    "        dic = job.result.data()['counts']\n",
    "        keys, vals = zip(*dic.items())\n",
    "        return keys, vals\n",
    "\n",
    "    def __init_jobs(self, backends, shots):\n",
    "        print('Initializing Jobs...')\n",
    "        for backend in backends:\n",
    "            print('Running qc on '+backend+' for '+str(shots)+' shots...')\n",
    "            self.jobs.append(self.__job(backend, self.qc, shots))\n",
    "            print('done.')\n",
    "\n",
    "    def __generate_labels(self, job):\n",
    "        keys, vals = self.__KeyVals(job)\n",
    "        labels = [['Machine'], ['input bits'], ['error operator'], ['no. of shots'], ['job id']]\n",
    "        for key in keys:\n",
    "            labels.append([key])\n",
    "        return labels\n",
    "\n",
    "    def __generate_data(self, job, Ldat):\n",
    "        keys, vals = self.__KeyVals(job)\n",
    "        Ldat[0].append(self.__machine(job))\n",
    "        Ldat[1].append(self.input_bits)\n",
    "        Ldat[2].append(self.error_op)\n",
    "        Ldat[3].append(self.__shots(job))\n",
    "        Ldat[4].append(self.__id(job))\n",
    "        for i in range(len(keys)):\n",
    "            Ldat[5+i].append(vals[i])\n",
    "        \n",
    "    def generate_csv(self):\n",
    "        filename = self.filename\n",
    "        labels = self.__generate_labels(self.jobs[0])\n",
    "        for job in self.jobs:\n",
    "            self.__generate_data(job, labels)\n",
    "        with open(filename, 'w') as csvfile:\n",
    "            writer = csv.writer(csvfile)\n",
    "            writer.writerows(labels)"
   ]
  },
  {
   "cell_type": "code",
   "execution_count": 2,
   "metadata": {},
   "outputs": [
    {
     "data": {
      "text/plain": [
       "<AccountProvider for IBMQ(hub='ibm-q', group='open', project='main')>"
      ]
     },
     "execution_count": 2,
     "metadata": {},
     "output_type": "execute_result"
    }
   ],
   "source": [
    "#Loading IBMQ Account\n",
    "IBMQ.save_account('(INSERT USER IBMQ TOKEN HERE)', overwrite=True)\n",
    "IBMQ.load_account()"
   ]
  },
  {
   "cell_type": "code",
   "execution_count": 10,
   "metadata": {},
   "outputs": [],
   "source": [
    "# Then we construct our quantum circuit however we desire.\n",
    "##Build the Circuit and Visualize   \n",
    "##STANDARD decomposition with W=H\n",
    "\n",
    "t = np.arcsin(np.sqrt(1/3)) #t=theta/2\n",
    "a = np.pi/4\n",
    "b = np.pi-t\n",
    "\n",
    "#Init Circuit\n",
    "q = QuantumRegister(3)\n",
    "c = ClassicalRegister(1)\n",
    "qc = QuantumCircuit(q, c)\n",
    "\n",
    "## encoding ##\n",
    "qc.x(q[1])\n",
    "qc.cu3(np.pi+t+t,0,np.pi,q[1],q[2])\n",
    "qc.x(q[1])\n",
    "qc.x(q[2])\n",
    "qc.cry(np.pi/2,q[2],q[1])\n",
    "qc.x(q[2])\n",
    "qc.z(q[0])\n",
    "qc.cx(q[0],q[1])\n",
    "qc.cx(q[2],q[0])\n",
    "qc.x(q[1])\n",
    "qc.cx(q[1],q[2])\n",
    "qc.x(q[1])\n",
    " \n",
    "qc.barrier()    \n",
    "##error operator##\n",
    "qc.h(q[0])\n",
    "qc.h(q[1])\n",
    "qc.h(q[2])\n",
    "\n",
    "qc.barrier()\n",
    "## decoding ##\n",
    "qc.x(q[1])\n",
    "qc.cx(q[1],q[2])\n",
    "qc.x(q[1])\n",
    "qc.cx(q[2],q[0])\n",
    "qc.cx(q[0],q[1])\n",
    "qc.z(q[0])\n",
    "qc.x(q[2])\n",
    "qc.cry(-np.pi/2,q[2],q[1])\n",
    "qc.x(q[2])\n",
    "qc.x(q[1])\n",
    "qc.cu3(np.pi+t+t,0,np.pi,q[1],q[2])\n",
    "qc.x(q[1])\n",
    "\n",
    "#measurement\n",
    "qc.barrier()\n",
    "qc.measure(q[1],c[0])\n",
    "\n",
    "\n",
    "CircFig=qc.draw(output=\"latex\",filename='STDCircFig.png')"
   ]
  },
  {
   "cell_type": "code",
   "execution_count": 5,
   "metadata": {},
   "outputs": [
    {
     "name": "stdout",
     "output_type": "stream",
     "text": [
      "Initializing Jobs...\n",
      "Running qc on ibmq_valencia for 2400 shots...\n",
      "done.\n",
      "Running qc on ibmq_santiago for 2400 shots...\n",
      "done.\n",
      "Running qc on ibmq_vigo for 2400 shots...\n",
      "done.\n",
      "Running qc on ibmqx2 for 2400 shots...\n",
      "done.\n",
      "Running qc on ibmq_ourense for 2400 shots...\n",
      "done.\n",
      "Running qc on ibmq_athens for 2400 shots...\n",
      "done.\n"
     ]
    }
   ],
   "source": [
    "# Next we establish a list of backends that we want to run on.  These must be strings.\n",
    "backends = ['ibmq_valencia', 'ibmq_santiago', 'ibmq_vigo', 'ibmqx2', 'ibmq_ourense', 'ibmq_athens']\n",
    "#Running the results and writing the info on a csv file\n",
    "A = CSVWriter(qc, backends, '000', 'H', 2400, 'testSTD.csv')\n",
    "A.generate_csv()"
   ]
  },
  {
   "cell_type": "code",
   "execution_count": 3,
   "metadata": {},
   "outputs": [],
   "source": [
    "#Run 1 Dec 13, 2020\n",
    "#sh_va={'*0*': 1982, '*1*': 418} \n",
    "#sh_sa={'*0*': 1945, '*1*': 455} \n",
    "#sh_vi={'*0*': 2040, '*1*': 360} \n",
    "#sh_yt={'*0*': 1869, '*1*': 531} \n",
    "#sh_ou={'*0*': 1977, '*1*': 423} \n",
    "\n",
    "#Run 2 Dec 15, 2020\n",
    "#sh_va={'0': 1980, '1': 420} \n",
    "#sh_sa={'0': 1049, '1': 1351} \n",
    "#sh_vi={'0': 1987, '1': 413} \n",
    "#sh_yt={'0': 1895, '1': 505} \n",
    "#sh_ou={'0': 1993, '1': 407} \n",
    "#sh_at={'0': 2091, '1': 309} \n"
   ]
  },
  {
   "cell_type": "code",
   "execution_count": 2,
   "metadata": {},
   "outputs": [],
   "source": [
    "#Run 3 Dec 29, 2020\n",
    "sh_va={'*0*': 1924, '*1*': 476}\n",
    "sh_sa={'*0*': 2080, '*1*': 320}\n",
    "sh_vi={'*0*': 2118, '*1*': 282}\n",
    "sh_yt={'*0*': 1624, '*1*': 776}\n",
    "sh_ou={'*0*': 1977, '*1*': 423}\n",
    "sh_at={'*0*': 2008, '*1*': 392}\n"
   ]
  },
  {
   "cell_type": "code",
   "execution_count": 3,
   "metadata": {},
   "outputs": [],
   "source": [
    "colors= colors= ['blue','orange','green', 'red','purple', 'cyan']\n",
    "shhist=plot_histogram([sh_va,sh_sa,sh_vi,sh_yt,sh_ou, sh_at],color=colors, title='Standard gates decomposition with W=H',figsize=(10,10))\n",
    "yax = shhist.axes[0]\n",
    "yax.set_ylim(0,1)\n",
    "ax = shhist.gca()\n",
    "\n",
    "Legend_Lines = [Line2D([0], [0], color=colors[0], lw=4),\n",
    "                Line2D([0], [0], color=colors[1], lw=4),\n",
    "                Line2D([0], [0], color=colors[2], lw=4),\n",
    "                Line2D([0], [0], color=colors[3], lw=4),\n",
    "                Line2D([0], [0], color=colors[4], lw=4),\n",
    "                Line2D([0], [0], color=colors[5], lw=4)]\n",
    "\n",
    "# Stick them in legend\n",
    "shhist.legend(Legend_Lines, ['ibmq_valencia','ibmq_santiago','ibmq_vigo','ibmqx2','ibmq_ourense', 'ibmq_athens'], bbox_to_anchor=(0.95, 0.95), bbox_transform=ax.transAxes)\n",
    "\n",
    "#Profit\n",
    "shhist.savefig('3SH.png')\n"
   ]
  },
  {
   "cell_type": "code",
   "execution_count": null,
   "metadata": {},
   "outputs": [],
   "source": []
  }
 ],
 "metadata": {
  "kernelspec": {
   "display_name": "Python 3",
   "language": "python",
   "name": "python3"
  },
  "language_info": {
   "codemirror_mode": {
    "name": "ipython",
    "version": 3
   },
   "file_extension": ".py",
   "mimetype": "text/x-python",
   "name": "python",
   "nbconvert_exporter": "python",
   "pygments_lexer": "ipython3",
   "version": "3.7.6"
  }
 },
 "nbformat": 4,
 "nbformat_minor": 4
}
